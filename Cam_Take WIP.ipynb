{
 "cells": [
  {
   "cell_type": "code",
   "execution_count": null,
   "metadata": {
    "collapsed": true
   },
   "outputs": [],
   "source": [
    "# Imports\n",
    "from tweepy import Stream\n",
    "from tweepy import OAuthHandler\n",
    "from tweepy.streaming import StreamListener\n",
    "import pprint as pp\n",
    "import tweepy\n",
    "import textblob as tb\n",
    "import json\n",
    "import requests\n",
    "import time\n",
    "from datetime import date\n",
    "from latlongfunc import latlong"
   ]
  },
  {
   "cell_type": "code",
   "execution_count": null,
   "metadata": {},
   "outputs": [],
   "source": [
    "\n",
    "with open('cred.json') as f:\n",
    "    # Load the credentials file\n",
    "    cred = json.load(f)\n",
    "    # assign the objects to variables\n",
    "    consumer_key = cred[\"consumer_key\"]\n",
    "    consumer_secret = cred[\"consumer_secret\"]\n",
    "    access_token = cred[\"access_token\"]\n",
    "    access_secret = cred[\"access_secret\"]\n",
    "#close the file\n",
    "f.close()\n",
    "\n",
    "#Switching to application authentication\n",
    "auth = tweepy.AppAuthHandler(consumer_key, consumer_secret)\n",
    "\n",
    "#Setting up new api wrapper, using authentication only\n",
    "api = tweepy.API(auth, wait_on_rate_limit=True,wait_on_rate_limit_notify=True)\n",
    " \n",
    "#Error handling\n",
    "if (not api):\n",
    "    print (\"Problem Connecting to API\")\n",
    "\n",
    "\n"
   ]
  },
  {
   "cell_type": "markdown",
   "metadata": {},
   "source": [
    "## Read This:\n",
    "\n",
    "http://www.dealingdata.net/2016/07/23/PoGo-Series-Tweepy/"
   ]
  },
  {
   "cell_type": "code",
   "execution_count": null,
   "metadata": {},
   "outputs": [],
   "source": [
    "# Listener Class\n",
    "\n",
    "\n",
    "class MyListener(StreamListener):\n",
    "\n",
    "    def on_data(self, data):\n",
    "        all_data = json.loads(data)\n",
    "        try:\n",
    "            tweet_place =  all_data[\"place\"]\n",
    "            if tweet_place != None:\n",
    "                tweet_loc_name = tweet_place[\"full_name\"]\n",
    "                tweet_loc = latlong(tweet_loc_name)\n",
    "                print('{} - {}'.format(tweet_loc_name, tweet_loc))\n",
    "        except:\n",
    "            pass\n",
    "            \n",
    "        \n",
    "#         if tweet['place'] != None:\n",
    "#             tweet_analysis = tb.TextBlob(tweet.text)\n",
    "#             tweet_polarity = tweet_analysis.polarity\n",
    "#             tweet_subjectivity = tweet_anlaysis.subjectivity\n",
    "#             tweet_loc = latlong(tweet['place']['full_name'])\n",
    "            \n",
    "#             print(tweet_polarity, '-',tweet_loc)\n",
    "            \n",
    "        return True\n",
    "    \n",
    " \n",
    "    def on_error(self, status):\n",
    "        print(status)\n",
    "        return True\n",
    " \n"
   ]
  },
  {
   "cell_type": "code",
   "execution_count": null,
   "metadata": {},
   "outputs": [],
   "source": [
    "\n",
    "auth = tweepy.OAuthHandler(consumer_key, consumer_secret)\n",
    "auth.set_access_token(access_token, access_secret)\n",
    " \n",
    "api = tweepy.API(auth)\n",
    "\n",
    "stream = MyListener(number_of_tweets = 10)\n",
    "twitter_stream = tweepy.Stream(auth, stream)\n",
    "twitter_stream.filter(track=['nfl','trump'])"
   ]
  }
 ],
 "metadata": {
  "kernelspec": {
   "display_name": "Python 3",
   "language": "python",
   "name": "python3"
  },
  "language_info": {
   "codemirror_mode": {
    "name": "ipython",
    "version": 3
   },
   "file_extension": ".py",
   "mimetype": "text/x-python",
   "name": "python",
   "nbconvert_exporter": "python",
   "pygments_lexer": "ipython3",
   "version": "3.6.2"
  }
 },
 "nbformat": 4,
 "nbformat_minor": 2
}
