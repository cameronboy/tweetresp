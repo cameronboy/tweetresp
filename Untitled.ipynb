{
 "cells": [
  {
   "cell_type": "code",
   "execution_count": 62,
   "metadata": {
    "collapsed": true
   },
   "outputs": [],
   "source": [
    "import tweepy\n",
    "import textblob as tb\n",
    "import json"
   ]
  },
  {
   "cell_type": "code",
   "execution_count": 63,
   "metadata": {
    "collapsed": true
   },
   "outputs": [],
   "source": [
    "# Load credentials into variables\n",
    "\"\"\"\n",
    "Let's store the credentials in a json object, that way we can reference that without having to hardcode\n",
    "our twitter app credentials in the code :)\n",
    "\"\"\"\n",
    "\n",
    "with open('cred.json') as f:\n",
    "    # Load the credentials file\n",
    "    cred = json.load(f)\n",
    "    # assign the objects to variables\n",
    "    consumer_key = cred[\"consumer_key\"]\n",
    "    consumer_secret = cred[\"consumer_secret\"]\n",
    "    access_token = cred[\"access_token\"]\n",
    "    access_secret = cred[\"access_secret\"]\n",
    "#close the file\n",
    "f.close()\n",
    "\n",
    "#passing credentials to access twitter and assign it to api variable\n",
    "auth = tweepy.OAuthHandler(consumer_key, consumer_secret)\n",
    "auth.set_access_token(access_token, access_secret)\n",
    "api = tweepy.API(auth)"
   ]
  },
  {
   "cell_type": "code",
   "execution_count": 65,
   "metadata": {},
   "outputs": [
    {
     "name": "stdout",
     "output_type": "stream",
     "text": [
      "football\n",
      "Keita Baldé is slowly helping Monaco forget about Kylian Mbappé https://t.co/UvwNvIKFnH\n",
      "North Wales\n",
      "Sentiment(polarity=-0.30000000000000004, subjectivity=0.39999999999999997)\n",
      "Be on the lookout for a chance to get FREE tickets to the football sectional game 👀👀\n",
      "Goshen High School\n",
      "Sentiment(polarity=0.0, subjectivity=0.6000000000000001)\n",
      "@ZMiller86 i dont watch football, but read about your injury. Will pray for a speedy recovery. Hope your surgery went well\n",
      "\n",
      "Sentiment(polarity=0.0, subjectivity=0.0)\n",
      "This also means Brady is about to play 15 more years of football. Which means 10 more rings. (the other 5 to Mitch Trubisky)\n",
      "269\n",
      "Sentiment(polarity=0.2916666666666667, subjectivity=0.4583333333333333)\n",
      "RT @yagirlmorgg: Just saw a married couple in their mid30s outside throwing a football, just the 2 of them, laughing &amp; messin around. So si…\n",
      "\n",
      "Sentiment(polarity=0.125, subjectivity=0.15)\n",
      "RT @BleedingGreen: Get an early look at the Eagles’ Week 9 opponent https://t.co/clgJnLwfzX\n",
      "Guam\n",
      "Sentiment(polarity=0.1, subjectivity=0.3)\n",
      "RT @Jones: JT Barrett made some great throws Saturday, but this was my favorite. Recognizes coverage, anticipates break, steps up into pres…\n",
      "\n",
      "Sentiment(polarity=0.65, subjectivity=0.875)\n",
      "RT @Chiefs: Remember this loud moment in Monday Night Football history?\n",
      "\n",
      "Here’s how it all started ➡️ https://t.co/AzUxzWODGX https://t.co/…\n",
      "\n",
      "Sentiment(polarity=0.1, subjectivity=0.8)\n",
      "RT @yagirlmorgg: Just saw a married couple in their mid30s outside throwing a football, just the 2 of them, laughing &amp; messin around. So si…\n",
      "NICHOLLS STATE || ΣΣΣ\n",
      "Sentiment(polarity=0.125, subjectivity=0.15)\n",
      "Shepherd Ranked Second in AFCA Poll https://t.co/mSBbZt60NL\n",
      "Shepherd University \n",
      "Sentiment(polarity=0.0, subjectivity=0.0)\n",
      "Play the @tcl_usa #TCL4KFootball challenge and #JarvisLandry or #MelvinGordon can help you #win a 4K TCL Roku TV! https://t.co/CC214h9VkF\n",
      "Burlington, Ontario\n",
      "Sentiment(polarity=1.0, subjectivity=0.4)\n",
      "RT @CourtsideFilms: Jalen Suggs basketball &amp; football highlights! #1 ranked PG in 2020, also cousins with NFL linebacker Terrell Suggs http…\n",
      "Minneapolis, MN\n",
      "Sentiment(polarity=0.0, subjectivity=0.0)\n",
      "Jamie Carragher tears into West Ham https://t.co/RV7ojcmC0X https://t.co/CWsy5rloRX\n",
      "United Kingdom\n",
      "Sentiment(polarity=0.0, subjectivity=0.0)\n",
      "@stephenasmith  I watch you all the time. Would you please tell your listeners what the football players want.\n",
      "United States\n",
      "Sentiment(polarity=0.0, subjectivity=0.0)\n",
      "No passes for Friday night’s football game except SCHSL passes per SCHSL rule. https://t.co/02EQN4unPf\n",
      "Moncks Corner, SC \n",
      "Sentiment(polarity=-0.4, subjectivity=0.4)\n"
     ]
    }
   ],
   "source": [
    "#in the future search_term will be an input\n",
    "search_term = 'football'\n",
    "\n",
    "#assigning all the relevant tweets to public_tweets\n",
    "public_tweets = api.search(search_term, monitor_rate_limit=True, wait_on_rate_limit=True)\n",
    "\n",
    "#all of these print commands are just to see a read out in terminal to\n",
    "#understand what the program is doing\n",
    "print(search_term)\n",
    "\n",
    "for tweet in public_tweets:\n",
    "    if (tweet.user.location is not None):\n",
    "        #this is an analysis using a module called textblob\n",
    "        analysis = tb.TextBlob(tweet.text)\n",
    "    \n",
    "        print(tweet.text)\n",
    "\n",
    "        #it seems like there are four attributes that are relavent to mapping tweets\n",
    "        #most in practice are null, user.location sometimes has something\n",
    "        #but it is not necessary to use a real answer\n",
    "        #\"home sweet home\" is hard to map :)\n",
    "        print(tweet.user.location)\n",
    "#        print(tweet.coordinates)\n",
    "#        print(tweet.geo)\n",
    "#        print(tweet.place)\n",
    "        print(analysis.sentiment)"
   ]
  }
 ],
 "metadata": {
  "kernelspec": {
   "display_name": "Python 3",
   "language": "python",
   "name": "python3"
  },
  "language_info": {
   "codemirror_mode": {
    "name": "ipython",
    "version": 3
   },
   "file_extension": ".py",
   "mimetype": "text/x-python",
   "name": "python",
   "nbconvert_exporter": "python",
   "pygments_lexer": "ipython3",
   "version": "3.6.2"
  }
 },
 "nbformat": 4,
 "nbformat_minor": 2
}
